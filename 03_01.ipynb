{
 "cells": [
  {
   "cell_type": "code",
   "execution_count": 17,
   "metadata": {},
   "outputs": [],
   "source": [
    "import numpy\n",
    "from matplotlib import pyplot\n",
    "%matplotlib inline"
   ]
  },
  {
   "cell_type": "code",
   "execution_count": 18,
   "metadata": {},
   "outputs": [],
   "source": [
    "#Given\n",
    "u_max = 1\n",
    "rho_max = 10\n",
    "\n",
    "rho_l = 4\n",
    "x_l = 2\n",
    "\n",
    "L = 4\n",
    "nx = 81\n",
    "dx = L / (nx - 1)\n",
    "\n",
    "nt = 30\n",
    "\n",
    "sigma = 1\n",
    "\n",
    "dt = (sigma * dx) / u_max\n",
    "\n",
    "x = numpy.linspace(0, L, num=nx)\n",
    "rho0 = numpy.zeros\n",
    "\n",
    "def ic(rho_l, x, x_l):\n",
    "    x = numpy.linspace(0, L, num=nx)\n",
    "    rho0 = numpy.zeros(nx)\n",
    "    mask = numpy.where(numpy.logical_and(x >= 0.0, x <= x_l))\n",
    "    rho0[mask] = rho_l * x[mask] / x_l\n",
    "    return rho0\n",
    "\n",
    "def flux(rho, u_max, rho_max):\n",
    "    flux = u_max * rho * (1 - rho / rho_max)\n",
    "    return flux\n",
    "\n",
    "def velocity(rho, u_max, rho_max):\n",
    "    u = u_max * (1 - rho / rho_max)\n",
    "    return u\n",
    "\n",
    "def ftbs(rho0, dt, dx, nt, rho_max, u_max):\n",
    "    rho0 = ic(rho_l, x, x_l)\n",
    "    rho_hist = [rho0.copy()]\n",
    "    rho = rho0.copy()\n",
    "    for n in range(nt):\n",
    "        rho[1:] = rho[1:] - dt / dx * (flux(rho = rho[1:], u_max=u_max, rho_max=rho_max) - flux(rho = rho[:-1], u_max=u_max, rho_max=rho_max))\n",
    "        rho_hist.append(rho.copy())\n",
    "    return rho_hist\n",
    "    \n",
    "rho_hist = ftbs(rho0 = rho0, dt = dt, dx = dx, nt = nt, rho_max = rho_max, u_max = u_max)\n",
    "\n",
    "\n",
    "\n"
   ]
  },
  {
   "cell_type": "code",
   "execution_count": 19,
   "metadata": {},
   "outputs": [],
   "source": [
    "def plot(n, x, rho_hist):\n",
    "    pyplot.figure()\n",
    "    pyplot.title('Time Step: {}'.format(n))\n",
    "    pyplot.xlabel('Road')\n",
    "    pyplot.ylabel('Traffic Density')\n",
    "    pyplot.plot(x, rho_hist[n])\n",
    "    pyplot.xlim(x[0], x[-1])\n",
    "    pyplot.ylim(-0.5, 11.0)\n",
    "    pyplot.show()\n",
    "    "
   ]
  },
  {
   "cell_type": "code",
   "execution_count": 20,
   "metadata": {},
   "outputs": [
    {
     "data": {
      "image/png": "[encoded data removed]",
      "text/plain": [
       "<Figure size 432x288 with 1 Axes>"
      ]
     },
     "metadata": {
      "needs_background": "light"
     },
     "output_type": "display_data"
    }
   ],
   "source": [
    "plot(20, x, rho_hist)"
   ]
  },
  {
   "cell_type": "code",
   "execution_count": 21,
   "metadata": {},
   "outputs": [],
   "source": [
    "import ipywidgets"
   ]
  },
  {
   "cell_type": "code",
   "execution_count": 24,
   "metadata": {},
   "outputs": [],
   "source": [
    "def interactive_plot(x, rho_hist):\n",
    "    nt = len(rho_hist) - 1\n",
    "    nt_slider = ipywidgets.IntSlider(value=0, min=0, max=nt, step=1, description='Time Step')\n",
    "    w = ipywidgets.interactive(plot, n=nt_slider, x=ipywidgets.fixed(x), rho_hist=ipywidgets.fixed(rho_hist))\n",
    "    return w"
   ]
  },
  {
   "cell_type": "code",
   "execution_count": 25,
   "metadata": {},
   "outputs": [
    {
     "data": {
      "application/vnd.jupyter.widget-view+json": {
       "model_id": "6b7788dfab6e4c859b1c19e13f92ead3",
       "version_major": 2,
       "version_minor": 0
      },
      "text/plain": [
       "interactive(children=(IntSlider(value=0, description='Time Step', max=30), Output()), _dom_classes=('widget-in…"
      ]
     },
     "metadata": {},
     "output_type": "display_data"
    }
   ],
   "source": [
    "interactive_plot(x, rho_hist)"
   ]
  },
  {
   "cell_type": "code",
   "execution_count": null,
   "metadata": {},
   "outputs": [],
   "source": []
  },
  {
   "cell_type": "code",
   "execution_count": null,
   "metadata": {},
   "outputs": [],
   "source": []
  }
 ],
 "metadata": {
  "kernelspec": {
   "display_name": "Python 3",
   "language": "python",
   "name": "python3"
  },
  "language_info": {
   "codemirror_mode": {
    "name": "ipython",
    "version": 3
   },
   "file_extension": ".py",
   "mimetype": "text/x-python",
   "name": "python",
   "nbconvert_exporter": "python",
   "pygments_lexer": "ipython3",
   "version": "3.7.3"
  }
 },
 "nbformat": 4,
 "nbformat_minor": 2
}
