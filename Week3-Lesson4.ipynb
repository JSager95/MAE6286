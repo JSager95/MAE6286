{
 "cells": [
  {
   "cell_type": "code",
   "execution_count": 1,
   "metadata": {},
   "outputs": [],
   "source": [
    "import numpy\n",
    "from matplotlib import pyplot\n",
    "import math"
   ]
  },
  {
   "cell_type": "code",
   "execution_count": 2,
   "metadata": {},
   "outputs": [],
   "source": [
    "# gravity acceleration; unit: m/s^2\n",
    "g = 9.81\n",
    "\n",
    "# drag coefficient; dimensionless\n",
    "CD = 10/40\n",
    "\n",
    "# drag coefficient; dimensionless\n",
    "CL = 10\n",
    "\n",
    "# trim velocity; unit: m / s\n",
    "vt = 30"
   ]
  },
  {
   "cell_type": "code",
   "execution_count": 3,
   "metadata": {},
   "outputs": [],
   "source": [
    "# velocity at t = 0s; unit: m / s\n",
    "v0 = vt\n",
    "\n",
    "# angle between trajectory and horizontal at t = 0s; unit: rad\n",
    "theta0 = 0.0 \n",
    "\n",
    "# x-coordinate at t = 0s; unit: m\n",
    "x0 = 0.0\n",
    "\n",
    "# y-coordinate at t = 0s; unit: m\n",
    "y0 = 1000"
   ]
  },
  {
   "cell_type": "code",
   "execution_count": 4,
   "metadata": {},
   "outputs": [],
   "source": [
    "# the square of the trim velocity; do not assign value directly; \n",
    "vt2 = vt**2"
   ]
  },
  {
   "cell_type": "code",
   "execution_count": 5,
   "metadata": {},
   "outputs": [],
   "source": [
    "# final T\n",
    "T = 100\n",
    "\n",
    "# time step\n",
    "dt = 0.1\n",
    "\n",
    "# the number of time steps from t=0 to t=100\n",
    "N = int(T/dt) + 1 "
   ]
  },
  {
   "cell_type": "code",
   "execution_count": 6,
   "metadata": {},
   "outputs": [],
   "source": [
    "# an array to hold variables at each time point\n",
    "u = numpy.zeros((N, 4))"
   ]
  },
  {
   "cell_type": "code",
   "execution_count": 7,
   "metadata": {},
   "outputs": [],
   "source": [
    "# assign v0 to the correct index in u\n",
    "u[0, 0] = v0\n",
    "\n",
    "# assign theta0 to the correct index in u\n",
    "u[0, 1] = theta0\n",
    "\n",
    "# assign x0 to the correct index in u\n",
    "u[0, 2] = x0\n",
    "\n",
    "# assign y0 to the correct index in u\n",
    "u[0, 3] = y0"
   ]
  },
  {
   "cell_type": "code",
   "execution_count": 11,
   "metadata": {},
   "outputs": [],
   "source": [
    "#Use RK to obtain U0, then use leap frog\n",
    "\n",
    "for n in range(N-1):\n",
    "\n",
    "    # extract v at the n-th time point from the array u\n",
    "    v_n = u[n, 0] \n",
    "    \n",
    "    # extract theta at the n-th time point from the array u\n",
    "    theta_n = u[n, 1]\n",
    "    \n",
    "    # extract x at the n-th time point from the array u\n",
    "    x_n = u[n, 2]\n",
    "    \n",
    "    # extract y at the n-th time point from the array u\n",
    "    y_n = u[n, 3]\n",
    "\n",
    "    # f(u^n) in the right-hand-side\n",
    "    f_n = numpy.array([(-g * math.sin(theta_n) - CD / CL * g / vt2 * v_n**2), \n",
    "        (-g * math.cos(theta_n) / v_n + g / vt**2 * v_n),\n",
    "        (v_n * math.cos(theta_n)),\n",
    "         (v_n * math.sin(theta_n))])\n",
    "\n",
    "    # update values at n+1 by Euler method: u^{n+1} = u^{n} + dt * f(u^{n})\n",
    "    u[n+1] = u[n] + (dt/2) * f_n"
   ]
  },
  {
   "cell_type": "code",
   "execution_count": null,
   "metadata": {},
   "outputs": [],
   "source": []
  },
  {
   "cell_type": "code",
   "execution_count": null,
   "metadata": {},
   "outputs": [],
   "source": []
  }
 ],
 "metadata": {
  "kernelspec": {
   "display_name": "Python 3",
   "language": "python",
   "name": "python3"
  },
  "language_info": {
   "codemirror_mode": {
    "name": "ipython",
    "version": 3
   },
   "file_extension": ".py",
   "mimetype": "text/x-python",
   "name": "python",
   "nbconvert_exporter": "python",
   "pygments_lexer": "ipython3",
   "version": "3.6.2"
  }
 },
 "nbformat": 4,
 "nbformat_minor": 2
}
