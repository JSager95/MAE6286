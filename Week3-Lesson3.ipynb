{
 "cells": [
  {
   "cell_type": "code",
   "execution_count": 40,
   "metadata": {},
   "outputs": [],
   "source": [
    "import numpy\n",
    "from matplotlib import pyplot\n",
    "import math"
   ]
  },
  {
   "cell_type": "code",
   "execution_count": 59,
   "metadata": {},
   "outputs": [],
   "source": [
    "# gravity acceleration; unit: m/s^2\n",
    "g = 9.81\n",
    "\n",
    "# drag coefficient; dimensionless\n",
    "CD = 10/40\n",
    "\n",
    "# drag coefficient; dimensionless\n",
    "CL = 10\n",
    "\n",
    "# trim velocity; unit: m / s\n",
    "vt = 30"
   ]
  },
  {
   "cell_type": "code",
   "execution_count": 60,
   "metadata": {},
   "outputs": [],
   "source": [
    "# the square of the trim velocity; do not assign value directly; \n",
    "vt2 = vt**2"
   ]
  },
  {
   "cell_type": "code",
   "execution_count": 61,
   "metadata": {},
   "outputs": [],
   "source": [
    "# velocity at t = 0s; unit: m / s\n",
    "v0 = vt\n",
    "\n",
    "# angle between trajectory and horizontal at t = 0s; unit: rad\n",
    "theta0 = 0.0 \n",
    "\n",
    "# x-coordinate at t = 0s; unit: m\n",
    "x0 = 0.0\n",
    "\n",
    "# y-coordinate at t = 0s; unit: m\n",
    "y0 = 1000"
   ]
  },
  {
   "cell_type": "code",
   "execution_count": 62,
   "metadata": {},
   "outputs": [],
   "source": [
    "# final T\n",
    "T = 100\n",
    "\n",
    "# time step\n",
    "dt = 0.1\n",
    "\n",
    "# the number of time steps from t=0 to t=100\n",
    "N = int(T/dt) + 1 "
   ]
  },
  {
   "cell_type": "code",
   "execution_count": 63,
   "metadata": {},
   "outputs": [],
   "source": [
    "# an array to hold variables at each time point\n",
    "u = numpy.zeros((N, 4))"
   ]
  },
  {
   "cell_type": "code",
   "execution_count": 64,
   "metadata": {},
   "outputs": [],
   "source": [
    "# assign v0 to the correct index in u\n",
    "u[0, 0] = v0\n",
    "\n",
    "# assign theta0 to the correct index in u\n",
    "u[0, 1] = theta0\n",
    "\n",
    "# assign x0 to the correct index in u\n",
    "u[0, 2] = x0\n",
    "\n",
    "# assign y0 to the correct index in u\n",
    "u[0, 3] = y0"
   ]
  },
  {
   "cell_type": "code",
   "execution_count": 65,
   "metadata": {},
   "outputs": [],
   "source": [
    "# iteration through Euler method\n",
    "# the loop should loop through n=0, 1, 2, ..., N-2\n",
    "for n in range(N-1):\n",
    "\n",
    "    # extract v at the n-th time point from the array u\n",
    "    v_n = u[n, 0] \n",
    "    \n",
    "    # extract theta at the n-th time point from the array u\n",
    "    theta_n = u[n, 1]\n",
    "    \n",
    "    # extract x at the n-th time point from the array u\n",
    "    x_n = u[n, 2]\n",
    "    \n",
    "    # extract y at the n-th time point from the array u\n",
    "    y_n = u[n, 3]\n",
    "\n",
    "    # f(u^n) in the right-hand-side\n",
    "    f_n = numpy.array([(-g * math.sin(theta_n) - CD / CL * g / vt2 * v_n**2), \n",
    "        (-g * math.cos(theta_n) / v_n + g / vt**2 * v_n),\n",
    "        (v_n * math.cos(theta_n)),\n",
    "         (v_n * math.sin(theta_n))])\n",
    "\n",
    "    # update values at n+1 by Euler method: u^{n+1} = u^{n} + dt * f(u^{n})\n",
    "    u[n+1] = u[n] + dt * f_n"
   ]
  },
  {
   "cell_type": "code",
   "execution_count": 66,
   "metadata": {},
   "outputs": [
    {
     "data": {
      "image/png": "[encoded data removed]",
      "text/plain": [
       "<Figure size 432x288 with 1 Axes>"
      ]
     },
     "metadata": {},
     "output_type": "display_data"
    }
   ],
   "source": [
    "import math\n",
    "import numpy\n",
    "from matplotlib import pyplot\n",
    "\n",
    "%matplotlib inline\n",
    "pyplot.plot(u[:, 2], u[:, 3]);\n"
   ]
  },
  {
   "cell_type": "code",
   "execution_count": 134,
   "metadata": {},
   "outputs": [],
   "source": [
    "# ratio\n",
    "r = 2\n",
    "\n",
    "# time steps\n",
    "dt_coarsest = 0.004\n",
    "dt_medium = (1/r) * dt_coarsest\n",
    "dt_finest = (1/r) * dt_medium\n",
    "\n",
    "# N for different time step sizes\n",
    "N_coarsest = int(T/dt_coarsest) + 1\n",
    "N_medium = int(T/dt_medium) + 1\n",
    "N_finest = int(T/dt_finest) + 1\n",
    "\n",
    "# initial u arrays holding variables to all time points\n",
    "u_coarsest = numpy.zeros((N_coarsest, 4))\n",
    "u_medium = numpy.zeros((N_medium, 4))\n",
    "u_finest = numpy.zeros((N_finest, 4))\n",
    "\n",
    "# assign initial conditions to correct locations in u_coarsest, u_medium, and u_finest\n",
    "u_coarsest[0, 0] = v0\n",
    "u_coarsest[0, 1] = theta0\n",
    "u_coarsest[0, 2] = x0\n",
    "u_coarsest[0, 3] = y0\n",
    "\n",
    "u_medium[0, 0] = v0\n",
    "u_medium[0, 1] = theta0\n",
    "u_medium[0, 2] = x0\n",
    "u_medium[0, 3] = y0\n",
    "\n",
    "u_finest[0, 0] = v0\n",
    "u_finest[0, 1] = theta0\n",
    "u_finest[0, 2] = x0\n",
    "u_finest[0, 3] = y0\n",
    "\n",
    "# iteration through Euler method for dt_coarsest\n",
    "# n = 0, 1, 2, ..., N_coarsest-2\n",
    "# <-- COMPLETE YOU CODE HERE -->\n",
    "\n",
    "for n in range(N_coarsest-1):\n",
    "\n",
    "    v_n_coarsest = u_coarsest[n, 0] \n",
    "    theta_n_coarsest = u_coarsest[n, 1]\n",
    "    x_n_coarsest = u_coarsest[n, 2]\n",
    "    y_n_coarsest = u_coarsest[n, 3]\n",
    "    \n",
    "    f_n_coarsest = numpy.array([(-g * math.sin(theta_n_coarsest) - CD / CL * g / vt2 * v_n_coarsest**2), \n",
    "        (-g * math.cos(theta_n_coarsest) / v_n_coarsest + g / vt**2 * v_n_coarsest),\n",
    "        (v_n_coarsest * math.cos(theta_n_coarsest)),\n",
    "        (v_n_coarsest * math.sin(theta_n_coarsest))])\n",
    " \n",
    "    u_coarsest[n+1] = u_coarsest[n] + dt_coarsest * f_n_coarsest\n",
    "\n",
    "# iteration through Euler method for dt_medium\n",
    "# n = 0, 1, 2, ..., N_medium-2\n",
    "# <-- COMPLETE YOU CODE HERE -->\n",
    "\n",
    "for n in range(N_medium-1):\n",
    "\n",
    "    v_n_medium = u_medium[n, 0] \n",
    "    theta_n_medium = u_medium[n, 1]\n",
    "    x_n_medium = u_medium[n, 2]\n",
    "    y_n_medium = u_medium[n, 3]\n",
    "    \n",
    "    f_n_medium = numpy.array([(-g * math.sin(theta_n_medium) - CD / CL * g / vt2 * v_n_medium**2), \n",
    "        (-g * math.cos(theta_n_medium) / v_n_medium + g / vt**2 * v_n_medium),\n",
    "        (v_n_medium * math.cos(theta_n_medium)),\n",
    "        (v_n_medium * math.sin(theta_n_medium))])\n",
    " \n",
    "    u_medium[n+1] = u_medium[n] + dt_medium * f_n_medium\n",
    "\n",
    "# iteration through Euler method for dt_finest\n",
    "# n = 0, 1, 2, ..., N_finest-2\n",
    "# <-- COMPLETE YOU CODE HERE -->\n",
    "for n in range(N_finest-1):\n",
    "\n",
    "    v_n_finest = u_finest[n, 0] \n",
    "    theta_n_finest = u_finest[n, 1]\n",
    "    x_n_finest = u_finest[n, 2]\n",
    "    y_n_finest = u_finest[n, 3]\n",
    "    \n",
    "    f_n_finest = numpy.array([(-g * math.sin(theta_n_finest) - CD / CL * g / vt2 * v_n_finest**2), \n",
    "        (-g * math.cos(theta_n_finest) / v_n_finest + g / vt**2 * v_n_finest),\n",
    "        (v_n_finest * math.cos(theta_n_finest)),\n",
    "        (v_n_finest * math.sin(theta_n_finest))])\n",
    " \n",
    "    u_finest[n+1] = u_finest[n] + dt_finest * f_n_finest"
   ]
  },
  {
   "cell_type": "code",
   "execution_count": 135,
   "metadata": {},
   "outputs": [],
   "source": [
    "f32 = 0.0"
   ]
  },
  {
   "cell_type": "code",
   "execution_count": 136,
   "metadata": {},
   "outputs": [],
   "source": [
    "# loop through n=0, 1, ..., N_coarsest-1 to sum up the difference in solutions\n",
    "for n in range(N_coarsest):\n",
    "    \n",
    "    # add the absolute value between v with largest and medium dt at time point n\n",
    "    f32 = f32 + numpy.abs(u_coarsest[n, 0] - u_medium[2*n, 0])\n",
    "    \n",
    "    # <-- complete the code to also add the absolute difference in theta, x, and y -->\n",
    "    f32 = f32 + numpy.abs(u_coarsest[n, 1] - u_medium[2*n, 1])\n",
    "    f32 = f32 + numpy.abs(u_coarsest[n, 2] - u_medium[2*n, 2])\n",
    "    f32 = f32 + numpy.abs(u_coarsest[n, 3] - u_medium[2*n, 3])"
   ]
  },
  {
   "cell_type": "code",
   "execution_count": 137,
   "metadata": {},
   "outputs": [],
   "source": [
    "f32 = f32 * dt_coarsest"
   ]
  },
  {
   "cell_type": "code",
   "execution_count": 138,
   "metadata": {},
   "outputs": [],
   "source": [
    "# initialize the variable f21 with zero to represent f2-f1\n",
    "f21 = 0.0"
   ]
  },
  {
   "cell_type": "code",
   "execution_count": 139,
   "metadata": {},
   "outputs": [],
   "source": [
    "# loop through n=0, 1, ..., N_medium-1 to sum up the difference in solutions\n",
    "for n in range(N_medium):\n",
    "    \n",
    "    # add the absolute value between v with largest and medium dt at time point n\n",
    "    f21 = f21 + numpy.abs(u_medium[n, 0] - u_finest[2*n, 0])\n",
    "    \n",
    "    # <-- complete the code to also add the absolute difference in theta, x, and y -->\n",
    "    f21 = f21 + numpy.abs(u_medium[n, 1] - u_finest[2*n, 1])\n",
    "    f21 = f21 + numpy.abs(u_medium[n, 2] - u_finest[2*n, 2])\n",
    "    f21 = f21 + numpy.abs(u_medium[n, 3] - u_finest[2*n, 3])\n"
   ]
  },
  {
   "cell_type": "code",
   "execution_count": 140,
   "metadata": {},
   "outputs": [],
   "source": [
    "f21 = f21 * dt_medium"
   ]
  },
  {
   "cell_type": "code",
   "execution_count": 141,
   "metadata": {},
   "outputs": [],
   "source": [
    "p = numpy.log10(f32/f21) / numpy.log10(r)"
   ]
  },
  {
   "cell_type": "code",
   "execution_count": 142,
   "metadata": {},
   "outputs": [
    {
     "name": "stdout",
     "output_type": "stream",
     "text": [
      "1.0138644206193634\n"
     ]
    }
   ],
   "source": [
    "print(p)"
   ]
  },
  {
   "cell_type": "code",
   "execution_count": 143,
   "metadata": {},
   "outputs": [
    {
     "data": {
      "image/png": "[encoded data removed]",
      "text/plain": [
       "<Figure size 432x288 with 1 Axes>"
      ]
     },
     "metadata": {},
     "output_type": "display_data"
    }
   ],
   "source": [
    "pyplot.plot(u_medium[:, 2], u_medium[:, 3]);"
   ]
  },
  {
   "cell_type": "code",
   "execution_count": 144,
   "metadata": {},
   "outputs": [
    {
     "data": {
      "image/png": "[encoded data removed]",
      "text/plain": [
       "<Figure size 432x288 with 1 Axes>"
      ]
     },
     "metadata": {},
     "output_type": "display_data"
    }
   ],
   "source": [
    "pyplot.plot(u_finest[:, 2], u_finest[:, 3]);"
   ]
  },
  {
   "cell_type": "code",
   "execution_count": null,
   "metadata": {},
   "outputs": [],
   "source": []
  }
 ],
 "metadata": {
  "kernelspec": {
   "display_name": "Python 3",
   "language": "python",
   "name": "python3"
  },
  "language_info": {
   "codemirror_mode": {
    "name": "ipython",
    "version": 3
   },
   "file_extension": ".py",
   "mimetype": "text/x-python",
   "name": "python",
   "nbconvert_exporter": "python",
   "pygments_lexer": "ipython3",
   "version": "3.6.2"
  }
 },
 "nbformat": 4,
 "nbformat_minor": 2
}
